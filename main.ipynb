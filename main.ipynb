{
 "cells": [
  {
   "cell_type": "code",
   "execution_count": null,
   "metadata": {},
   "outputs": [],
   "source": [
    "import os\n",
    "if not os.path.exists('open.zip') and not os.path.exists('./data'): # Download data from google drive\n",
    "    !pip install gdown\n",
    "    !gdown https://drive.google.com/uc?id=13oGkm3Ao7fL2p51H62J68Gw630ABBR0g \n",
    "    !unzip open.zip -d data # unzip in the 'data' folder\n"
   ]
  },
  {
   "cell_type": "code",
   "execution_count": 5,
   "metadata": {},
   "outputs": [
    {
     "name": "stderr",
     "output_type": "stream",
     "text": [
      "100%|██████████| 70000/70000 [03:15<00:00, 358.52it/s]\n"
     ]
    }
   ],
   "source": [
    "from prepare_origin import save_origin\n",
    "if not os.path.exists('./data/origin'):  # make origin picture from train data\n",
    "    save_origin('./data')"
   ]
  }
 ],
 "metadata": {
  "kernelspec": {
   "display_name": "Python 3",
   "language": "python",
   "name": "python3"
  },
  "language_info": {
   "codemirror_mode": {
    "name": "ipython",
    "version": 3
   },
   "file_extension": ".py",
   "mimetype": "text/x-python",
   "name": "python",
   "nbconvert_exporter": "python",
   "pygments_lexer": "ipython3",
   "version": "3.8.10"
  }
 },
 "nbformat": 4,
 "nbformat_minor": 2
}
