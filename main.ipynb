{
 "cells": [
  {
   "cell_type": "code",
   "execution_count": null,
   "metadata": {},
   "outputs": [],
   "source": [
    "import os\n",
    "if not os.path.exists('open.zip') and not os.path.exists('./data'): # Download data from google drive\n",
    "    !pip install gdown\n",
    "    !gdown https://drive.google.com/uc?id=13oGkm3Ao7fL2p51H62J68Gw630ABBR0g \n",
    "    !unzip open.zip -d data # unzip in the 'data' folder\n"
   ]
  },
  {
   "cell_type": "code",
   "execution_count": null,
   "metadata": {},
   "outputs": [],
   "source": [
    "from prepare_origin import save_origin\n",
    "if not os.path.exists('./data/origin'):  # make origin picture from train data\n",
    "    save_origin('./data')"
   ]
  }
 ],
 "metadata": {
  "language_info": {
   "name": "python"
  }
 },
 "nbformat": 4,
 "nbformat_minor": 2
}
