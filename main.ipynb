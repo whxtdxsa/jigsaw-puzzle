{
 "cells": [
  {
   "cell_type": "code",
   "execution_count": 15,
   "metadata": {},
   "outputs": [
    {
     "name": "stdout",
     "output_type": "stream",
     "text": [
      "Looking in indexes: https://pypi.org/simple, https://pypi.ngc.nvidia.com\n",
      "Requirement already satisfied: timm in /usr/local/lib/python3.8/dist-packages (from -r requirements.txt (line 1)) (0.9.12)\n",
      "Requirement already satisfied: torch>=1.7 in /usr/local/lib/python3.8/dist-packages (from timm->-r requirements.txt (line 1)) (1.14.0a0+410ce96)\n",
      "Requirement already satisfied: torchvision in /usr/local/lib/python3.8/dist-packages (from timm->-r requirements.txt (line 1)) (0.15.0a0)\n",
      "Requirement already satisfied: pyyaml in /usr/local/lib/python3.8/dist-packages (from timm->-r requirements.txt (line 1)) (6.0.1)\n",
      "Requirement already satisfied: huggingface-hub in /usr/local/lib/python3.8/dist-packages (from timm->-r requirements.txt (line 1)) (0.20.3)\n",
      "Requirement already satisfied: safetensors in /usr/local/lib/python3.8/dist-packages (from timm->-r requirements.txt (line 1)) (0.4.2)\n",
      "Requirement already satisfied: typing_extensions in /usr/local/lib/python3.8/dist-packages (from torch>=1.7->timm->-r requirements.txt (line 1)) (4.9.0)\n",
      "Requirement already satisfied: sympy in /usr/local/lib/python3.8/dist-packages (from torch>=1.7->timm->-r requirements.txt (line 1)) (1.11.1)\n",
      "Requirement already satisfied: networkx in /usr/local/lib/python3.8/dist-packages (from torch>=1.7->timm->-r requirements.txt (line 1)) (2.6.3)\n",
      "Requirement already satisfied: filelock in /usr/local/lib/python3.8/dist-packages (from huggingface-hub->timm->-r requirements.txt (line 1)) (3.13.1)\n",
      "Requirement already satisfied: fsspec>=2023.5.0 in /usr/local/lib/python3.8/dist-packages (from huggingface-hub->timm->-r requirements.txt (line 1)) (2023.12.2)\n",
      "Requirement already satisfied: requests in /usr/local/lib/python3.8/dist-packages (from huggingface-hub->timm->-r requirements.txt (line 1)) (2.28.1)\n",
      "Requirement already satisfied: tqdm>=4.42.1 in /usr/local/lib/python3.8/dist-packages (from huggingface-hub->timm->-r requirements.txt (line 1)) (4.64.1)\n",
      "Requirement already satisfied: packaging>=20.9 in /usr/local/lib/python3.8/dist-packages (from huggingface-hub->timm->-r requirements.txt (line 1)) (21.3)\n",
      "Requirement already satisfied: numpy in /usr/local/lib/python3.8/dist-packages (from torchvision->timm->-r requirements.txt (line 1)) (1.22.2)\n",
      "Requirement already satisfied: pillow!=8.3.*,>=5.3.0 in /usr/local/lib/python3.8/dist-packages (from torchvision->timm->-r requirements.txt (line 1)) (9.2.0)\n",
      "Requirement already satisfied: pyparsing!=3.0.5,>=2.0.2 in /usr/local/lib/python3.8/dist-packages (from packaging>=20.9->huggingface-hub->timm->-r requirements.txt (line 1)) (3.0.9)\n",
      "Requirement already satisfied: charset-normalizer<3,>=2 in /usr/local/lib/python3.8/dist-packages (from requests->huggingface-hub->timm->-r requirements.txt (line 1)) (2.1.1)\n",
      "Requirement already satisfied: idna<4,>=2.5 in /usr/local/lib/python3.8/dist-packages (from requests->huggingface-hub->timm->-r requirements.txt (line 1)) (3.4)\n",
      "Requirement already satisfied: urllib3<1.27,>=1.21.1 in /usr/local/lib/python3.8/dist-packages (from requests->huggingface-hub->timm->-r requirements.txt (line 1)) (1.26.13)\n",
      "Requirement already satisfied: certifi>=2017.4.17 in /usr/local/lib/python3.8/dist-packages (from requests->huggingface-hub->timm->-r requirements.txt (line 1)) (2022.12.7)\n",
      "Requirement already satisfied: mpmath>=0.19 in /usr/local/lib/python3.8/dist-packages (from sympy->torch>=1.7->timm->-r requirements.txt (line 1)) (1.2.1)\n",
      "\u001b[33mWARNING: Running pip as the 'root' user can result in broken permissions and conflicting behaviour with the system package manager. It is recommended to use a virtual environment instead: https://pip.pypa.io/warnings/venv\u001b[0m\u001b[33m\n",
      "\u001b[0m"
     ]
    }
   ],
   "source": [
    "!pip install -r requirements.txt"
   ]
  },
  {
   "cell_type": "code",
   "execution_count": 13,
   "metadata": {},
   "outputs": [],
   "source": [
    "import yaml\n",
    "with open('./module/config.yaml') as f:\n",
    "    config = yaml.safe_load(f)"
   ]
  },
  {
   "cell_type": "code",
   "execution_count": 2,
   "metadata": {},
   "outputs": [],
   "source": [
    "from module.data_loader import get_dataframe, get_dataset\n",
    "train_df, valid_df, test_df = get_dataframe(config[\"data_path\"], config[\"train_size\"])\n",
    "\n",
    "train_dataset = get_dataset(train_df, config[\"data_path\"], True)\n",
    "valid_dataset = get_dataset(valid_df, config[\"data_path\"], False)"
   ]
  },
  {
   "cell_type": "code",
   "execution_count": null,
   "metadata": {},
   "outputs": [],
   "source": [
    "import torch\n",
    "from torch.utils.data import DataLoader\n",
    "train_dataloader = DataLoader(\n",
    "    train_dataset,\n",
    "    batch_size = config[\"batch_size\"],\n",
    "    shuffle = True,\n",
    "    num_workers = config[\"num_workers\"],\n",
    "    pin_memory=True\n",
    ")\n",
    "\n",
    "valid_dataloader = DataLoader(\n",
    "    valid_dataset,\n",
    "    batch_size = config[\"batch_size\"],\n",
    "    shuffle = False, \n",
    "    num_workers = config[\"num_workers\"],\n",
    "    pin_memory=True\n",
    ")"
   ]
  },
  {
   "cell_type": "code",
   "execution_count": 14,
   "metadata": {},
   "outputs": [],
   "source": [
    "from module.custom_model import Model\n",
    "model = Model(config[\"mask_ratio\"], config[\"pretrained\"])\n",
    "\n",
    "if config[\"is_import_model\"]:\n",
    "    model.load_state_dict(torch.load(config[\"model_save_path\"] + config[\"import_model_name\"]))\n",
    "\n",
    "import torch.optim as optim\n",
    "optimizer = optim.AdamW(model.parameters(),\n",
    "                        lr=config[\"lr\"],\n",
    "                        weight_decay=config[\"weight_decay\"])\n",
    "\n",
    "from module.model_train import model_train\n",
    "model_train(train_dataloader, model, optimizer, config[\"epochs\"], config[\"model_save_path\"])"
   ]
  },
  {
   "cell_type": "code",
   "execution_count": null,
   "metadata": {},
   "outputs": [],
   "source": [
    "from module.calc_score import eval_model, calc_puzzle\n",
    "pred_valid_df = eval_model(model, valid_dataloader, valid_df)\n",
    "score = calc_puzzle(valid_df, pred_valid_df)\n",
    "print(score)"
   ]
  }
 ],
 "metadata": {
  "kernelspec": {
   "display_name": "Python 3",
   "language": "python",
   "name": "python3"
  },
  "language_info": {
   "codemirror_mode": {
    "name": "ipython",
    "version": 3
   },
   "file_extension": ".py",
   "mimetype": "text/x-python",
   "name": "python",
   "nbconvert_exporter": "python",
   "pygments_lexer": "ipython3",
   "version": "3.8.10"
  }
 },
 "nbformat": 4,
 "nbformat_minor": 2
}
